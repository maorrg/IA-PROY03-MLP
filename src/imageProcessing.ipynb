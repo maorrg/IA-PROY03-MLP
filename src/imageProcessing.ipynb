{
 "cells": [
  {
   "cell_type": "code",
   "execution_count": null,
   "metadata": {},
   "outputs": [],
   "source": [
    "import utils"
   ]
  },
  {
   "cell_type": "code",
   "execution_count": null,
   "metadata": {},
   "outputs": [],
   "source": [
    "path = r'data\\input\\images'\n",
    "#img = Image.open(path)\n",
    "x, y = utils.get_data_wavelet(path,0)\n",
    "#Image.Image.show(img)"
   ]
  },
  {
   "cell_type": "code",
   "execution_count": null,
   "metadata": {},
   "outputs": [],
   "source": [
    "file_object = open(r'data\\output\\imageProcessingOutput\\eigenvectors.csv', 'a')\n",
    "for i in x:\n",
    "    for j in i:\n",
    "        file_object.write(str(j) + ', ')\n",
    "    file_object.write('\\n')\n",
    "file_object.close()"
   ]
  }
 ],
 "metadata": {
  "interpreter": {
   "hash": "2fbc01340ea13738c41a27ea5ada86b0a9167a33d8bfa78ca607d329e5f2626f"
  },
  "kernelspec": {
   "display_name": "Python 3.10.4 ('venv': venv)",
   "language": "python",
   "name": "python3"
  },
  "language_info": {
   "codemirror_mode": {
    "name": "ipython",
    "version": 3
   },
   "file_extension": ".py",
   "mimetype": "text/x-python",
   "name": "python",
   "nbconvert_exporter": "python",
   "pygments_lexer": "ipython3",
   "version": "3.10.4"
  },
  "orig_nbformat": 4
 },
 "nbformat": 4,
 "nbformat_minor": 2
}
