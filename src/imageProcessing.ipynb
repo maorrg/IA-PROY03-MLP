{
 "cells": [
  {
   "cell_type": "code",
   "execution_count": 1,
   "metadata": {},
   "outputs": [],
   "source": [
    "import utils"
   ]
  },
  {
   "cell_type": "code",
   "execution_count": 3,
   "metadata": {},
   "outputs": [],
   "source": [
    "path = r'data\\input\\images'\n",
    "#img = Image.open(path)\n",
    "x, y = utils.get_data_wavelet(path,0)\n",
    "#Image.Image.show(img)"
   ]
  },
  {
   "cell_type": "code",
   "execution_count": 4,
   "metadata": {},
   "outputs": [],
   "source": [
    "file_object = open(r'data\\output\\imageProcessingOutput\\eigenvectors.csv', 'a')\n",
    "for i in x:\n",
    "    for j in i:\n",
    "        file_object.write(str(j) + ', ')\n",
    "    file_object.write('\\n')\n",
    "file_object.close()"
   ]
  }
 ],
 "metadata": {
  "interpreter": {
   "hash": "1574dca48e308cc3651c67f51f75a30afa86eab0bc083143ae8f6c47936081de"
  },
  "kernelspec": {
   "display_name": "Python 3.6.2 32-bit",
   "language": "python",
   "name": "python3"
  },
  "language_info": {
   "codemirror_mode": {
    "name": "ipython",
    "version": 3
   },
   "file_extension": ".py",
   "mimetype": "text/x-python",
   "name": "python",
   "nbconvert_exporter": "python",
   "pygments_lexer": "ipython3",
   "version": "3.6.2"
  },
  "orig_nbformat": 4
 },
 "nbformat": 4,
 "nbformat_minor": 2
}
