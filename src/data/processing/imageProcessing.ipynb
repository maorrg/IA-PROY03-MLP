{
 "cells": [
  {
   "cell_type": "code",
   "execution_count": 1,
   "metadata": {},
   "outputs": [],
   "source": [
    "import utils\n",
    "import numpy as np\n",
    "from sklearn.preprocessing import MinMaxScaler"
   ]
  },
  {
   "cell_type": "code",
   "execution_count": 3,
   "metadata": {},
   "outputs": [],
   "source": [
    "path = r'../input/images'\n",
    "#img = Image.open(path)\n",
    "x, y = utils.get_data_wavelet(path, iterations=8, newshape=(256, 256))\n",
    "#Image.Image.show(img)"
   ]
  },
  {
   "cell_type": "code",
   "execution_count": 4,
   "metadata": {},
   "outputs": [],
   "source": [
    "X = MinMaxScaler().fit_transform(x)\n",
    "Y = np.array([int(name[:3]) - 1 for name in y])"
   ]
  },
  {
   "cell_type": "code",
   "execution_count": 5,
   "metadata": {},
   "outputs": [
    {
     "name": "stdout",
     "output_type": "stream",
     "text": [
      "(832, 768) (832,)\n"
     ]
    }
   ],
   "source": [
    "print(X.shape, Y.shape)"
   ]
  },
  {
   "cell_type": "code",
   "execution_count": 6,
   "metadata": {},
   "outputs": [],
   "source": [
    "with open(r'../../data/output/imageProcessingOutput/eigenvectors.csv', 'w') as fo:\n",
    "    for xi, yi in zip(X, Y):\n",
    "        for xij in xi:\n",
    "            print(xij, end=',', file=fo)\n",
    "        print(yi, file=fo)"
   ]
  },
  {
   "cell_type": "code",
   "execution_count": 8,
   "metadata": {},
   "outputs": [],
   "source": [
    "with open(r'../../data/output/imageProcessingOutput/eigenvectors.csv', 'r') as fo:\n",
    "    lines = fo.readlines()\n",
    "    X_recv, Y_recv = [], []\n",
    "    for line in lines:\n",
    "        line = line.split(',')\n",
    "        yi = int(line[-1])\n",
    "        xi = [float(xij) for xij in line[:-1]]\n",
    "        X_recv.append(xi)\n",
    "        Y_recv.append(yi)\n",
    "    X_recv = np.array(X_recv)\n",
    "    Y_recv = np.array(Y_recv)\n",
    "    "
   ]
  }
 ],
 "metadata": {
  "kernelspec": {
   "display_name": "Python 3.9.12 64-bit",
   "language": "python",
   "name": "python3"
  },
  "language_info": {
   "codemirror_mode": {
    "name": "ipython",
    "version": 3
   },
   "file_extension": ".py",
   "mimetype": "text/x-python",
   "name": "python",
   "nbconvert_exporter": "python",
   "pygments_lexer": "ipython3",
   "version": "3.9.12"
  },
  "orig_nbformat": 4,
  "vscode": {
   "interpreter": {
    "hash": "b0fa6594d8f4cbf19f97940f81e996739fb7646882a419484c72d19e05852a7e"
   }
  }
 },
 "nbformat": 4,
 "nbformat_minor": 2
}
