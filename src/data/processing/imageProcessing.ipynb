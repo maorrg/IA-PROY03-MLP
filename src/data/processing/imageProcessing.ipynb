{
 "cells": [
  {
   "cell_type": "code",
   "execution_count": 23,
   "metadata": {},
   "outputs": [],
   "source": [
    "import utils\n",
    "import numpy as np\n",
    "from sklearn.preprocessing import MinMaxScaler"
   ]
  },
  {
   "cell_type": "code",
   "execution_count": 45,
   "metadata": {},
   "outputs": [],
   "source": [
    "path = r'..\\..\\data\\input\\images'\n",
    "#img = Image.open(path)\n",
    "x, y = utils.get_data_wavelet(path, iterations=8, newshape=(256, 256))\n",
    "#Image.Image.show(img)"
   ]
  },
  {
   "cell_type": "code",
   "execution_count": 46,
   "metadata": {},
   "outputs": [],
   "source": [
    "X = MinMaxScaler().fit_transform(x)\n",
    "Y = np.array([int(name[:3]) - 1 for name in y])"
   ]
  },
  {
   "cell_type": "code",
   "execution_count": 47,
   "metadata": {},
   "outputs": [
    {
     "name": "stdout",
     "output_type": "stream",
     "text": [
      "(832, 768) (832,)\n"
     ]
    }
   ],
   "source": [
    "print(X.shape, Y.shape)"
   ]
  },
  {
   "cell_type": "code",
   "execution_count": 41,
   "metadata": {},
   "outputs": [],
   "source": [
    "with open(r'..\\..\\data\\output\\imageProcessingOutput\\eigenvectors.csv', 'w') as fo:\n",
    "    for xi, yi in zip(X, Y):\n",
    "        for xij in xi:\n",
    "            print(xij, end=',', file=fo)\n",
    "        print(yi, file=fo)"
   ]
  },
  {
   "cell_type": "code",
   "execution_count": 38,
   "metadata": {},
   "outputs": [],
   "source": [
    "with open(r'..\\..\\data\\output\\imageProcessingOutput\\eigenvectors.csv', 'r') as fo:\n",
    "    lines = fo.readlines()\n",
    "    X_recv, Y_recv = [], []\n",
    "    for line in lines:\n",
    "        line = line.split(' ')\n",
    "        yi = int(line[-1])\n",
    "        xi = [float(xij) for xij in line[:-1]]\n",
    "        X_recv.append(xi)\n",
    "        Y_recv.append(yi)\n",
    "    X_recv = np.array(X_recv)\n",
    "    Y_recv = np.array(Y_recv)\n",
    "    "
   ]
  }
 ],
 "metadata": {
  "kernelspec": {
   "display_name": "Python 3.10.5 ('venv': venv)",
   "language": "python",
   "name": "python3"
  },
  "language_info": {
   "codemirror_mode": {
    "name": "ipython",
    "version": 3
   },
   "file_extension": ".py",
   "mimetype": "text/x-python",
   "name": "python",
   "nbconvert_exporter": "python",
   "pygments_lexer": "ipython3",
   "version": "3.10.5"
  },
  "orig_nbformat": 4,
  "vscode": {
   "interpreter": {
    "hash": "2fbc01340ea13738c41a27ea5ada86b0a9167a33d8bfa78ca607d329e5f2626f"
   }
  }
 },
 "nbformat": 4,
 "nbformat_minor": 2
}
